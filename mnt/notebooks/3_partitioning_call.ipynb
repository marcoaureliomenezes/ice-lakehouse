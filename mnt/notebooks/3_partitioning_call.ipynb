{
 "cells": [
  {
   "cell_type": "code",
   "execution_count": 1,
   "id": "0ef256f6",
   "metadata": {},
   "outputs": [
    {
     "name": "stdout",
     "output_type": "stream",
     "text": [
      ":: loading settings :: url = jar:file:/opt/bitnami/spark/jars/ivy-2.5.1.jar!/org/apache/ivy/core/settings/ivysettings.xml\n"
     ]
    },
    {
     "name": "stderr",
     "output_type": "stream",
     "text": [
      "Ivy Default Cache set to: /root/.ivy2/cache\n",
      "The jars for the packages stored in: /root/.ivy2/jars\n",
      "org.apache.iceberg#iceberg-spark-runtime-3.5_2.12 added as a dependency\n",
      "org.projectnessie.nessie-integrations#nessie-spark-extensions-3.5_2.12 added as a dependency\n",
      "software.amazon.awssdk#bundle added as a dependency\n",
      "software.amazon.awssdk#url-connection-client added as a dependency\n",
      ":: resolving dependencies :: org.apache.spark#spark-submit-parent-50c4a47a-410a-4522-a9ce-7049653a9088;1.0\n",
      "\tconfs: [default]\n",
      "\tfound org.apache.iceberg#iceberg-spark-runtime-3.5_2.12;1.6.1 in central\n",
      "\tfound org.projectnessie.nessie-integrations#nessie-spark-extensions-3.5_2.12;0.95.0 in central\n",
      "\tfound software.amazon.awssdk#bundle;2.17.178 in central\n",
      "\tfound software.amazon.eventstream#eventstream;1.0.1 in central\n",
      "\tfound software.amazon.awssdk#url-connection-client;2.17.178 in central\n",
      "\tfound software.amazon.awssdk#utils;2.17.178 in central\n",
      "\tfound org.reactivestreams#reactive-streams;1.0.3 in central\n",
      "\tfound software.amazon.awssdk#annotations;2.17.178 in central\n",
      "\tfound org.slf4j#slf4j-api;1.7.30 in central\n",
      "\tfound software.amazon.awssdk#http-client-spi;2.17.178 in central\n",
      "\tfound software.amazon.awssdk#metrics-spi;2.17.178 in central\n",
      ":: resolution report :: resolve 525ms :: artifacts dl 35ms\n",
      "\t:: modules in use:\n",
      "\torg.apache.iceberg#iceberg-spark-runtime-3.5_2.12;1.6.1 from central in [default]\n",
      "\torg.projectnessie.nessie-integrations#nessie-spark-extensions-3.5_2.12;0.95.0 from central in [default]\n",
      "\torg.reactivestreams#reactive-streams;1.0.3 from central in [default]\n",
      "\torg.slf4j#slf4j-api;1.7.30 from central in [default]\n",
      "\tsoftware.amazon.awssdk#annotations;2.17.178 from central in [default]\n",
      "\tsoftware.amazon.awssdk#bundle;2.17.178 from central in [default]\n",
      "\tsoftware.amazon.awssdk#http-client-spi;2.17.178 from central in [default]\n",
      "\tsoftware.amazon.awssdk#metrics-spi;2.17.178 from central in [default]\n",
      "\tsoftware.amazon.awssdk#url-connection-client;2.17.178 from central in [default]\n",
      "\tsoftware.amazon.awssdk#utils;2.17.178 from central in [default]\n",
      "\tsoftware.amazon.eventstream#eventstream;1.0.1 from central in [default]\n",
      "\t---------------------------------------------------------------------\n",
      "\t|                  |            modules            ||   artifacts   |\n",
      "\t|       conf       | number| search|dwnlded|evicted|| number|dwnlded|\n",
      "\t---------------------------------------------------------------------\n",
      "\t|      default     |   11  |   0   |   0   |   0   ||   11  |   0   |\n",
      "\t---------------------------------------------------------------------\n",
      ":: retrieving :: org.apache.spark#spark-submit-parent-50c4a47a-410a-4522-a9ce-7049653a9088\n",
      "\tconfs: [default]\n",
      "\t0 artifacts copied, 11 already retrieved (0kB/12ms)\n",
      "24/09/08 18:19:19 WARN NativeCodeLoader: Unable to load native-hadoop library for your platform... using builtin-java classes where applicable\n",
      "Setting default log level to \"WARN\".\n",
      "To adjust logging level use sc.setLogLevel(newLevel). For SparkR, use setLogLevel(newLevel).\n",
      "24/09/08 18:19:20 WARN Utils: Service 'SparkUI' could not bind on port 4040. Attempting port 4041.\n"
     ]
    },
    {
     "name": "stdout",
     "output_type": "stream",
     "text": [
      "Spark Running\n"
     ]
    }
   ],
   "source": [
    "import pyspark\n",
    "from pyspark.sql import SparkSession\n",
    "import os\n",
    "\n",
    "## DEFINE SENSITIVE VARIABLES\n",
    "NESSIE_URI = \"http://nessie:19120/api/v1\"\n",
    "MINIO_HOST = 'http://minio:9000'\n",
    "MINIO_ACCESS_KEY = \"jeAncqX06SoMwYqb3boy\"\n",
    "MINIO_SECRET_KEY = \"jR2iwRbXnSpQOj5Yg9Zxw1kNGOtJ1UvUKbXcqLGT\"\n",
    "\n",
    "jar_packages = [\n",
    "  \"org.apache.iceberg:iceberg-spark-runtime-3.5_2.12:1.6.1\",\n",
    "  \"org.projectnessie.nessie-integrations:nessie-spark-extensions-3.5_2.12:0.95.0\",\n",
    "  \"software.amazon.awssdk:bundle:2.17.178\",\n",
    "  \"software.amazon.awssdk:url-connection-client:2.17.178\"\n",
    "]\n",
    "\n",
    "spark_extensions = [\n",
    "  \"org.apache.iceberg.spark.extensions.IcebergSparkSessionExtensions\",\n",
    "  \"org.projectnessie.spark.extensions.NessieSparkSessionExtensions\"\n",
    "]\n",
    "\n",
    "# fs.s3a.path.style.access true\n",
    "# dremio.s3.compat true\n",
    "# fs.s3a.endpoint http://minio:9000\n",
    "\n",
    "conf = (\n",
    "  pyspark.SparkConf()\n",
    "    .setAppName('iceberg_hello_world')\n",
    "    .set('spark.jars.packages', ','.join(jar_packages))\n",
    "\t.set('spark.sql.extensions', ','.join(spark_extensions))\n",
    "\t.set('spark.sql.catalog.nessie', \"org.apache.iceberg.spark.SparkCatalog\")\n",
    "\t.set('spark.sql.catalog.nessie.uri', NESSIE_URI)\n",
    "\t.set('spark.sql.catalog.nessie.ref', 'main')\n",
    "\t.set('spark.sql.catalog.nessie.authentication.type', 'NONE')\n",
    "\t.set('spark.sql.catalog.nessie.catalog-impl', 'org.apache.iceberg.nessie.NessieCatalog')\n",
    "\t.set('spark.sql.catalog.nessie.io-impl', 'org.apache.iceberg.aws.s3.S3FileIO')\n",
    "\t.set('spark.sql.catalog.nessie.s3.endpoint', MINIO_HOST)\n",
    "\t.set('spark.sql.catalog.nessie.warehouse', 's3a://warehouse')\n",
    "\t.set('spark.hadoop.fs.s3a.access.key', MINIO_ACCESS_KEY)\n",
    "\t.set('spark.hadoop.fs.s3a.secret.key', MINIO_SECRET_KEY)\n",
    "\t.set('spark.hadoop.fs.s3a.path.style.access', 'true')\n",
    "    .set('spark.hadoop.fs.s3a.connection.timeout', '600000')\n",
    "\t.set('spark.hadoop.fs.s3a.impl', 'org.apache.hadoop.fs.s3a.S3AFileSystem')\n",
    "\t.set('spark.hadoop.fs.s3a.connection.ssl.enabled', 'false')\n",
    "\t.set('spark.hadoop.fs.s3a.endpoint', MINIO_HOST)\t\t\n",
    ")\n",
    "\n",
    "# .config(\"spark.hadoop.fs.s3a.impl\", \"org.apache.hadoop.fs.s3a.S3AFileSystem\") \\\n",
    "# .config(\"spark.hadoop.fs.s3a.access.key\", \"SEU_ACCESS_KEY\") \\\n",
    "# .config(\"spark.hadoop.fs.s3a.secret.key\", \"SEU_SECRET_KEY\") \\\n",
    "# .config(\"spark.hadoop.fs.s3a.endpoint\", \"http://SEU_MINIO_ENDPOINT:9000\") \\\n",
    "# .config(\"spark.hadoop.fs.s3a.path.style.access\", \"true\") \\\n",
    "    \n",
    "## Start Spark Session\n",
    "spark = SparkSession.builder.config(conf=conf).master(\"local\").getOrCreate()\n",
    "print(\"Spark Running\")\n",
    "\n"
   ]
  },
  {
   "cell_type": "code",
   "execution_count": 2,
   "id": "6cc31445-edb7-4400-95fa-7dfa50e364c3",
   "metadata": {},
   "outputs": [],
   "source": [
    "data_stage = [\n",
    "    (3, \"Alecio\", 33),\n",
    "    (4, \"Rosemberg\", 31),\n",
    "    (5, \"Felipe\", 35)\n",
    "]\n",
    "df_stage = spark.createDataFrame(data_stage, [\"id\", \"name\", \"age\"])\n",
    "df_stage.createOrReplaceTempView(\"view_stage\")"
   ]
  },
  {
   "cell_type": "code",
   "execution_count": 3,
   "id": "ac956af8",
   "metadata": {},
   "outputs": [
    {
     "name": "stdout",
     "output_type": "stream",
     "text": [
      "++\n",
      "||\n",
      "++\n",
      "++\n",
      "\n"
     ]
    },
    {
     "name": "stderr",
     "output_type": "stream",
     "text": [
      "SLF4J: Failed to load class \"org.slf4j.impl.StaticLoggerBinder\".\n",
      "SLF4J: Defaulting to no-operation (NOP) logger implementation\n",
      "SLF4J: See http://www.slf4j.org/codes.html#StaticLoggerBinder for further details.\n"
     ]
    },
    {
     "name": "stdout",
     "output_type": "stream",
     "text": [
      "++\n",
      "||\n",
      "++\n",
      "++\n",
      "\n"
     ]
    },
    {
     "name": "stderr",
     "output_type": "stream",
     "text": [
      "                                                                                \r"
     ]
    },
    {
     "name": "stdout",
     "output_type": "stream",
     "text": [
      "++\n",
      "||\n",
      "++\n",
      "++\n",
      "\n",
      "+---+-------+---+\n",
      "| id|   name|age|\n",
      "+---+-------+---+\n",
      "|  1|  Alice| 30|\n",
      "|  2|    Bob| 25|\n",
      "|  3|Charlie| 35|\n",
      "+---+-------+---+\n",
      "\n"
     ]
    },
    {
     "name": "stderr",
     "output_type": "stream",
     "text": [
      "[Stage 2:>                                                          (0 + 1) / 1]\r"
     ]
    },
    {
     "name": "stdout",
     "output_type": "stream",
     "text": [
      "+---+---------+---+\n",
      "| id|     name|age|\n",
      "+---+---------+---+\n",
      "|  3|   Alecio| 33|\n",
      "|  4|Rosemberg| 31|\n",
      "|  5|   Felipe| 35|\n",
      "+---+---------+---+\n",
      "\n"
     ]
    },
    {
     "name": "stderr",
     "output_type": "stream",
     "text": [
      "                                                                                \r"
     ]
    }
   ],
   "source": [
    "spark.sql(\"\"\"USE nessie\"\"\")\n",
    "\n",
    "spark.sql(\"CREATE OR REPLACE TABLE test_table (id BIGINT,name STRING, age INT)\")\n",
    "\n",
    "spark.sql(\"\"\"\n",
    "INSERT INTO test_table\n",
    "VALUES\n",
    "\t(1, 'Alice', 30),\n",
    "\t(2, 'Bob', 25),\n",
    "\t(3, 'Charlie', 35)\n",
    "\"\"\")\n",
    "\n",
    "\n",
    "spark.sql(\"\"\"SELECT * FROM test_table\"\"\").show()\n",
    "spark.sql(\"\"\"SELECT * FROM view_stage\"\"\").show()"
   ]
  },
  {
   "cell_type": "code",
   "execution_count": 4,
   "id": "cfcb314e-cc75-428d-bc84-8727cb96fe8c",
   "metadata": {},
   "outputs": [
    {
     "name": "stdout",
     "output_type": "stream",
     "text": [
      "++\n",
      "||\n",
      "++\n",
      "++\n",
      "\n",
      "+---+---------+---+\n",
      "| id|     name|age|\n",
      "+---+---------+---+\n",
      "|  5|   Felipe| 35|\n",
      "|  3|   Alecio| 35|\n",
      "|  1|    Alice| 30|\n",
      "|  4|Rosemberg| 31|\n",
      "|  2|      Bob| 25|\n",
      "+---+---------+---+\n",
      "\n"
     ]
    }
   ],
   "source": [
    "spark.sql(\"\"\"\n",
    "MERGE INTO test_table\n",
    "USING (SELECT * FROM view_stage) b\n",
    "ON test_table.id = b.id\n",
    "    WHEN MATCHED THEN UPDATE SET test_table.name = b.name\n",
    "    WHEN NOT MATCHED THEN INSERT *\n",
    "\"\"\").show()\n",
    "\n",
    "spark.sql(\"\"\"SELECT * FROM nessie.test_table\"\"\").distinct().show()"
   ]
  },
  {
   "cell_type": "code",
   "execution_count": null,
   "id": "773d52a2-48f3-4537-b246-961e882c77c2",
   "metadata": {},
   "outputs": [],
   "source": []
  }
 ],
 "metadata": {
  "kernelspec": {
   "display_name": "Python 3 (ipykernel)",
   "language": "python",
   "name": "python3"
  },
  "language_info": {
   "codemirror_mode": {
    "name": "ipython",
    "version": 3
   },
   "file_extension": ".py",
   "mimetype": "text/x-python",
   "name": "python",
   "nbconvert_exporter": "python",
   "pygments_lexer": "ipython3",
   "version": "3.11.9"
  }
 },
 "nbformat": 4,
 "nbformat_minor": 5
}
