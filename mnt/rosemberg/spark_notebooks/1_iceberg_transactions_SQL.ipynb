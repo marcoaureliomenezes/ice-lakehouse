{
 "cells": [
  {
   "cell_type": "code",
   "execution_count": 5,
   "id": "5dc3d720-9043-46da-af4c-a94152c5843d",
   "metadata": {},
   "outputs": [
    {
     "name": "stderr",
     "output_type": "stream",
     "text": [
      "[Stage 0:>                                                          (0 + 2) / 2]\r"
     ]
    },
    {
     "name": "stdout",
     "output_type": "stream",
     "text": [
      "root\n",
      " |-- id: long (nullable = true)\n",
      " |-- name: string (nullable = true)\n",
      " |-- age: long (nullable = true)\n",
      " |-- salary: double (nullable = true)\n",
      " |-- last_purchase: timestamp (nullable = true)\n",
      " |-- last_purchase_date: string (nullable = true)\n",
      "\n"
     ]
    },
    {
     "name": "stderr",
     "output_type": "stream",
     "text": [
      "                                                                                \r"
     ]
    }
   ],
   "source": [
    "from utils import get_spark_session\n",
    "import os\n",
    "\n",
    "spark = get_spark_session(\"iceberg_transactions_SQL\")"
   ]
  },
  {
   "cell_type": "markdown",
   "id": "06f89d54-b02f-4b60-9da6-ba7416852814",
   "metadata": {},
   "source": [
    "## INSERT INTO\n",
    "\n",
    "Insert Data to a table"
   ]
  },
  {
   "cell_type": "markdown",
   "id": "f43683f5-19a9-40c2-8437-42b4b43088d0",
   "metadata": {},
   "source": [
    "spark.sql(f\"\"\"\n",
    "INSERT INTO {TABLE_NAME_2} VALUES\n",
    "    (1, 'Alice', 30, 1000, '2021-01-01'),\n",
    "    (2, 'Bob', 25, 1200, '2021-01-01'),\n",
    "    (3, 'Charlie', 35, 1300, '2021-01-01'),\n",
    "    (4, 'David', 40, 1500, '2021-01-01'),\n",
    "    (5, 'Eve', 45, 2000, '2021-01-01'),\n",
    "    (6, 'Frank', 50, 2500, '2021-01-01'),\n",
    "    (7, 'Grace', 55, 3000, '2021-01-01'),\n",
    "    (8, 'Helen', 60, 3500, '2021-01-01'),\n",
    "    (9, 'Ivan', 65, 4000, '2021-01-01'),\n",
    "    (10, 'John', 70, 4500, '2021-01-01')\n",
    "\"\"\")\n",
    "\n",
    "spark.table(TABLE_NAME_2).show()\n",
    "\n",
    "spark.sql(f\"\"\"\n",
    "INSERT INTO {TABLE_NAME_2} VALUES\n",
    "    (1, 'Alice', 30, 1000, '2021-01-01'),\n",
    "    (2, 'Bob', 25, 1200, '2021-01-01'),\n",
    "    (3, 'Charlie', 35, 1300, '2021-01-01')\n",
    "\"\"\")\n",
    "\n",
    "spark.table(TABLE_NAME_2).show()\n"
   ]
  },
  {
   "cell_type": "markdown",
   "id": "b87ef76d-2c43-4ed3-804e-776d5d4e4f82",
   "metadata": {},
   "source": [
    "## 3. INSERT OVERWRITE"
   ]
  },
  {
   "cell_type": "code",
   "execution_count": null,
   "id": "4acfb215-0c49-48ae-a8f9-88f6ba67a8af",
   "metadata": {},
   "outputs": [],
   "source": [
    "spark.sql(f\"\"\"\n",
    "INSERT OVERWRITE {TABLE_NAME_2}\n",
    "SELECT DISTINCT(*) FROM {TABLE_NAME_2}\n",
    "\"\"\")\n",
    "\n",
    "spark.table(TABLE_NAME_2).show(50)"
   ]
  },
  {
   "cell_type": "markdown",
   "id": "dc00b8ba-1e82-40d8-8035-f386ce0c0187",
   "metadata": {},
   "source": [
    "## 2. MERGE INTO"
   ]
  },
  {
   "cell_type": "code",
   "execution_count": null,
   "id": "ff5af6c1-2bb2-4718-9eb3-c19009304d9c",
   "metadata": {},
   "outputs": [],
   "source": [
    "from pyspark.sql.functions import col\n",
    "\n",
    "\n",
    "data = [\n",
    "    (5, 'Marco', 33, 10000, '2024-08-20'),\n",
    "    (6, 'Kandão', 35, 7000, '2018-08-23'),\n",
    "    (7, 'Alécio', 33, 15000, '2022-08-22'),\n",
    "    (11, 'Rosemberg', 33, 20000, '2024-12-11')\n",
    "]\n",
    "\n",
    "df = spark.createDataFrame(data, [\"id\", \"name\", \"age\", \"salary\", \"purchase_date\"]).withColumn(\"salary\", col(\"salary\").cast(\"double\"))\n",
    "df.createOrReplaceTempView(\"temp_view\")\n",
    "\n",
    "spark.sql(f\"\"\"\n",
    "MERGE INTO {TABLE_NAME_2} t   -- a target table\n",
    "USING temp_view s             -- the source updates\n",
    "ON t.id = s.id                -- condition to find updates for target rows\n",
    "WHEN MATCHED AND s.salary > 8000 THEN UPDATE SET t.name = s.name , t.salary = s.salary\n",
    "WHEN NOT MATCHED THEN INSERT * \n",
    "\"\"\")\n",
    "\n",
    "spark.table(TABLE_NAME_2).show(50)"
   ]
  },
  {
   "cell_type": "markdown",
   "id": "a0baa2dd-a04e-4c5b-82b4-6d7e85c93878",
   "metadata": {},
   "source": [
    "# Iceberg Catalogs\n",
    "\n",
    "### What can be used an Iceberg Catalog\n",
    "\n",
    "Catalogs help track Iceberg Tables and provide locking mechanisms for ACID Guarantees;\n",
    "Thing to keep in mind is that while many engines may support Iceberg Tables they may not support connections to all catalogs;\n",
    "\n",
    "### Project Nessie\n",
    "\n",
    "- Pros: Git Like functionality, Cloud Managed Service (Arctic);\n",
    "- Cons: Spport from engines beyond Spark and Dremio;\n",
    "\n",
    "### Hive Metastore\n",
    "\n",
    "- Pros: Can use existing Hive Metastore\n",
    "- Cons: You have to deploy and maintain a hive metastore;\n",
    "\n",
    "### AWS Glue\n",
    "\n",
    "- Pros: Interop with AWS Services;\n",
    "- Cons: Support outside of AWS, Spark and Dremio;\n",
    "\n",
    "\n",
    "- **Copy-on-write**: Daily batch jobs where write speed is less a priority and read time is a high priority;\n",
    "- **Merge-on-read (Position Deletes)**: Streaming and higher frequency batch (hourly) where write speed is very important with minor cost to read times. Regular compaction should be scheduled;\n",
    "- **Merge-on-read (Equality Deletes)**: Very write intensive jobs where position deletes still aren't fast enough, much larger cost to reading so frequent compaction jobs will be necessary to manage;"
   ]
  },
  {
   "cell_type": "code",
   "execution_count": 4,
   "id": "0c20b60a-efb4-457a-8cd0-47766a0f053d",
   "metadata": {},
   "outputs": [],
   "source": [
    "spark.stop()"
   ]
  }
 ],
 "metadata": {
  "kernelspec": {
   "display_name": "Python 3 (ipykernel)",
   "language": "python",
   "name": "python3"
  },
  "language_info": {
   "codemirror_mode": {
    "name": "ipython",
    "version": 3
   },
   "file_extension": ".py",
   "mimetype": "text/x-python",
   "name": "python",
   "nbconvert_exporter": "python",
   "pygments_lexer": "ipython3",
   "version": "3.11.9"
  }
 },
 "nbformat": 4,
 "nbformat_minor": 5
}
